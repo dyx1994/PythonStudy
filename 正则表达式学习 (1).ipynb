{
 "cells": [
  {
   "cell_type": "markdown",
   "metadata": {},
   "source": [
    "# 正则表达式\n",
    "\n",
    "re.match(正则表达式， 需要处理的字符串）\n",
    "\n",
    "如果有返回值，则说明字符串中含有正则表达式"
   ]
  },
  {
   "cell_type": "code",
   "execution_count": 1,
   "metadata": {},
   "outputs": [],
   "source": [
    "import re"
   ]
  },
  {
   "cell_type": "code",
   "execution_count": 2,
   "metadata": {},
   "outputs": [
    {
     "data": {
      "text/plain": [
       "<re.Match object; span=(0, 5), match='hello'>"
      ]
     },
     "execution_count": 2,
     "metadata": {},
     "output_type": "execute_result"
    }
   ],
   "source": [
    "re.match(r\"hello\", \"hello world\")"
   ]
  },
  {
   "cell_type": "code",
   "execution_count": 3,
   "metadata": {},
   "outputs": [],
   "source": [
    "re.match(r\"Hello\", \"hello world\")"
   ]
  },
  {
   "cell_type": "code",
   "execution_count": 4,
   "metadata": {},
   "outputs": [
    {
     "data": {
      "text/plain": [
       "<re.Match object; span=(0, 5), match='hello'>"
      ]
     },
     "execution_count": 4,
     "metadata": {},
     "output_type": "execute_result"
    }
   ],
   "source": [
    "re.match(r\"[hH]ello\", \"hello world\")"
   ]
  },
  {
   "cell_type": "code",
   "execution_count": 5,
   "metadata": {},
   "outputs": [
    {
     "data": {
      "text/plain": [
       "<re.Match object; span=(0, 5), match='Hello'>"
      ]
     },
     "execution_count": 5,
     "metadata": {},
     "output_type": "execute_result"
    }
   ],
   "source": [
    "re.match(r\"[hH]ello\", \"Hello world\")"
   ]
  },
  {
   "cell_type": "markdown",
   "metadata": {},
   "source": [
    "### 匹配单个字符\n",
    "\n",
    "> . : 匹配任意一个字符（除了\\n）\n",
    ">\n",
    "> [] : 匹配[]中列举的字符\n",
    ">\n",
    "> \\d : 匹配数字，0-9\n",
    ">\n",
    "> \\D : 匹配非数字\n",
    ">\n",
    "> \\s : 匹配空白，空格，tab键\n",
    ">\n",
    "> \\S : 匹配非空白\n",
    ">\n",
    "> \\w : 匹配单词字符， a-z, A-Z, 0-9\n",
    "> \n",
    "> \\W : 匹配非单词字符\n"
   ]
  },
  {
   "cell_type": "code",
   "execution_count": 6,
   "metadata": {},
   "outputs": [
    {
     "data": {
      "text/plain": [
       "<re.Match object; span=(0, 6), match='速度与激情1'>"
      ]
     },
     "execution_count": 6,
     "metadata": {},
     "output_type": "execute_result"
    }
   ],
   "source": [
    "re.match(r\"速度与激情1\", \"速度与激情1\")"
   ]
  },
  {
   "cell_type": "code",
   "execution_count": 7,
   "metadata": {},
   "outputs": [
    {
     "data": {
      "text/plain": [
       "<re.Match object; span=(0, 6), match='速度与激情2'>"
      ]
     },
     "execution_count": 7,
     "metadata": {},
     "output_type": "execute_result"
    }
   ],
   "source": [
    "re.match(r\"速度与激情\\d\", \"速度与激情2\")    # \\d 代表一个数字"
   ]
  },
  {
   "cell_type": "code",
   "execution_count": 8,
   "metadata": {},
   "outputs": [
    {
     "data": {
      "text/plain": [
       "<re.Match object; span=(0, 6), match='速度与激情3'>"
      ]
     },
     "execution_count": 8,
     "metadata": {},
     "output_type": "execute_result"
    }
   ],
   "source": [
    "re.match(r\"速度与激情\\d\", \"速度与激情3\")"
   ]
  },
  {
   "cell_type": "code",
   "execution_count": 9,
   "metadata": {},
   "outputs": [],
   "source": [
    "ret = re.match(r\"速度与激情\\d\", \"速度与激情5\")  "
   ]
  },
  {
   "cell_type": "code",
   "execution_count": 10,
   "metadata": {},
   "outputs": [
    {
     "data": {
      "text/plain": [
       "'速度与激情5'"
      ]
     },
     "execution_count": 10,
     "metadata": {},
     "output_type": "execute_result"
    }
   ],
   "source": [
    "ret.group()"
   ]
  },
  {
   "cell_type": "code",
   "execution_count": 11,
   "metadata": {},
   "outputs": [],
   "source": [
    "ret = re.match(r\"速度与激情\\d\", \"速度与激情88\")  # 无法匹配88，因为\\d只代表一位数字"
   ]
  },
  {
   "cell_type": "code",
   "execution_count": 12,
   "metadata": {},
   "outputs": [
    {
     "data": {
      "text/plain": [
       "'速度与激情8'"
      ]
     },
     "execution_count": 12,
     "metadata": {},
     "output_type": "execute_result"
    }
   ],
   "source": [
    "ret.group()"
   ]
  },
  {
   "cell_type": "code",
   "execution_count": 13,
   "metadata": {},
   "outputs": [],
   "source": [
    "ret = re.match(r\"速度与激情\\d\\d\", \"速度与激情88\")  # 无法匹配88，因为\\d只代表一位数字(0~9)"
   ]
  },
  {
   "cell_type": "code",
   "execution_count": 14,
   "metadata": {},
   "outputs": [
    {
     "data": {
      "text/plain": [
       "'速度与激情88'"
      ]
     },
     "execution_count": 14,
     "metadata": {},
     "output_type": "execute_result"
    }
   ],
   "source": [
    "ret.group()"
   ]
  },
  {
   "cell_type": "code",
   "execution_count": 15,
   "metadata": {},
   "outputs": [],
   "source": [
    "ret = re.match(r\"速度与激情[1234567]\", \"速度与激情9\")   # 中括号限制数字的范围"
   ]
  },
  {
   "cell_type": "code",
   "execution_count": 16,
   "metadata": {},
   "outputs": [
    {
     "ename": "AttributeError",
     "evalue": "'NoneType' object has no attribute 'group'",
     "output_type": "error",
     "traceback": [
      "\u001b[0;31m---------------------------------------------------------------------------\u001b[0m",
      "\u001b[0;31mAttributeError\u001b[0m                            Traceback (most recent call last)",
      "\u001b[0;32m<ipython-input-16-0c062bb84e23>\u001b[0m in \u001b[0;36m<module>\u001b[0;34m\u001b[0m\n\u001b[0;32m----> 1\u001b[0;31m \u001b[0mret\u001b[0m\u001b[0;34m.\u001b[0m\u001b[0mgroup\u001b[0m\u001b[0;34m(\u001b[0m\u001b[0;34m)\u001b[0m\u001b[0;34m\u001b[0m\u001b[0;34m\u001b[0m\u001b[0m\n\u001b[0m",
      "\u001b[0;31mAttributeError\u001b[0m: 'NoneType' object has no attribute 'group'"
     ]
    }
   ],
   "source": [
    "ret.group()"
   ]
  },
  {
   "cell_type": "code",
   "execution_count": 17,
   "metadata": {},
   "outputs": [
    {
     "data": {
      "text/plain": [
       "'速度与激情1'"
      ]
     },
     "execution_count": 17,
     "metadata": {},
     "output_type": "execute_result"
    }
   ],
   "source": [
    "re.match(r\"速度与激情[1-7]\", \"速度与激情1\").group()     "
   ]
  },
  {
   "cell_type": "code",
   "execution_count": 18,
   "metadata": {},
   "outputs": [
    {
     "data": {
      "text/plain": [
       "'速度与激情5'"
      ]
     },
     "execution_count": 18,
     "metadata": {},
     "output_type": "execute_result"
    }
   ],
   "source": [
    "re.match(r\"速度与激情[1-7]\", \"速度与激情5\").group()"
   ]
  },
  {
   "cell_type": "code",
   "execution_count": 27,
   "metadata": {},
   "outputs": [
    {
     "data": {
      "text/plain": [
       "'速度与激情a'"
      ]
     },
     "execution_count": 27,
     "metadata": {},
     "output_type": "execute_result"
    }
   ],
   "source": [
    "re.match(r\"速度与激情[1-7abcd]\", \"速度与激情a\").group()"
   ]
  },
  {
   "cell_type": "markdown",
   "metadata": {},
   "source": [
    "### 匹配多个字符\n",
    "\n",
    "> \\* : 匹配一个字符出现0次或者无限次，即可有可无\n",
    ">\n",
    "> \\+ : 匹配一个字符出现1次或者无限次，即至少有1次\n",
    ">\n",
    "> ? : 匹配一个字符出现1次或者0次，即要么有1次，要么没有\n",
    ">\n",
    "> (m) : 匹配前一个字符出现m次\n",
    ">\n",
    "> (m,n) : 匹配前一个字符出现从m到n次"
   ]
  },
  {
   "cell_type": "code",
   "execution_count": 20,
   "metadata": {},
   "outputs": [
    {
     "data": {
      "text/plain": [
       "'速度与激情1'"
      ]
     },
     "execution_count": 20,
     "metadata": {},
     "output_type": "execute_result"
    }
   ],
   "source": [
    "re.match(r\"速度与激情\\d{1,3}\", \"速度与激情1\").group()"
   ]
  },
  {
   "cell_type": "code",
   "execution_count": 21,
   "metadata": {},
   "outputs": [
    {
     "data": {
      "text/plain": [
       "'速度与激情23'"
      ]
     },
     "execution_count": 21,
     "metadata": {},
     "output_type": "execute_result"
    }
   ],
   "source": [
    "re.match(r\"速度与激情\\d{1,3}\", \"速度与激情23\").group()"
   ]
  },
  {
   "cell_type": "code",
   "execution_count": 22,
   "metadata": {},
   "outputs": [
    {
     "data": {
      "text/plain": [
       "'速度与激情112'"
      ]
     },
     "execution_count": 22,
     "metadata": {},
     "output_type": "execute_result"
    }
   ],
   "source": [
    "re.match(r\"速度与激情\\d{1,3}\", \"速度与激情112\").group()      # {}规定数字位数，加逗号表示1-3个数字都可以"
   ]
  },
  {
   "cell_type": "code",
   "execution_count": 25,
   "metadata": {},
   "outputs": [
    {
     "data": {
      "text/plain": [
       "'12345678901'"
      ]
     },
     "execution_count": 25,
     "metadata": {},
     "output_type": "execute_result"
    }
   ],
   "source": [
    "re.match(r\"\\d{11}\", \"12345678901\").group()   # {}中只有一个数字，则指定必须要11位数字"
   ]
  },
  {
   "cell_type": "code",
   "execution_count": 28,
   "metadata": {},
   "outputs": [
    {
     "data": {
      "text/plain": [
       "'010-12345678'"
      ]
     },
     "execution_count": 28,
     "metadata": {},
     "output_type": "execute_result"
    }
   ],
   "source": [
    "re.match(r\"\\d{3}-?\\d{8}\", \"010-12345678\").group()"
   ]
  },
  {
   "cell_type": "markdown",
   "metadata": {},
   "source": [
    "###案例：判断变量名是否符合要求"
   ]
  },
  {
   "cell_type": "code",
   "execution_count": 31,
   "metadata": {},
   "outputs": [
    {
     "name": "stdout",
     "output_type": "stream",
     "text": [
      "变量名:age 符合要求...\n",
      "变量名:_age 符合要求...\n",
      "变量名:1age 不符合要求...\n",
      "变量名:age1 符合要求...\n",
      "变量名:a_age 符合要求...\n",
      "变量名:age_1_ 符合要求...\n",
      "变量名:age! 不符合要求...\n",
      "变量名:a#123 不符合要求...\n"
     ]
    }
   ],
   "source": [
    "def main():\n",
    "    names = [\"age\", \"_age\", \"1age\", \"age1\", \"a_age\", \"age_1_\", \"age!\", \"a#123\"]\n",
    "    for name in names:\n",
    "#         ret = re.match(r\"[a-zA-Z_][a-zA-Z0-9_]*\", name)\n",
    "        ret = re.match(r\"^[a-zA-Z_][a-zA-Z0-9_]*$\", name)\n",
    "        if ret:\n",
    "            print(\"变量名:%s 符合要求...\" % name)\n",
    "        else:\n",
    "            print(\"变量名:%s 不符合要求...\" % name)\n",
    "            \n",
    "\n",
    "if __name__ == \"__main__\":\n",
    "    main()"
   ]
  },
  {
   "cell_type": "markdown",
   "metadata": {},
   "source": [
    "### 匹配开头结尾\n",
    "\n",
    "> ^ : 匹配字符串开头\n",
    ">\n",
    "> $ : 匹配字符串结尾\n",
    ">"
   ]
  },
  {
   "cell_type": "markdown",
   "metadata": {},
   "source": [
    "### EXERCISE:\n",
    "匹配出163的邮箱地址，且@符号之前有4-20位，例如hello@163.com"
   ]
  },
  {
   "cell_type": "code",
   "execution_count": 35,
   "metadata": {},
   "outputs": [
    {
     "name": "stdout",
     "output_type": "stream",
     "text": [
      "请输入一个邮箱地址：dyx_9494@163.com\n",
      "dyx_9494@163.com符合要求...\n"
     ]
    }
   ],
   "source": [
    "import re\n",
    "\n",
    "\n",
    "def main():\n",
    "    email = input(\"请输入一个邮箱地址：\")\n",
    "    # 如果在正则表达式中需要用到某些普通字符，比如.比如？等，仅仅需要在前面加\\（转义字符）\n",
    "    ret = re.match(r\"^[a-zA-Z_0-9]{4,20}@163\\.com$\", email)    \n",
    "    if ret:\n",
    "        print(\"%s符合要求...\" % email)\n",
    "    else:\n",
    "        print(\"%s不符合要求...\" % email)\n",
    "        \n",
    "\n",
    "if __name__ == \"__main__\":\n",
    "    main()"
   ]
  },
  {
   "cell_type": "code",
   "execution_count": 37,
   "metadata": {},
   "outputs": [
    {
     "name": "stdout",
     "output_type": "stream",
     "text": [
      "请输入一个邮箱地址：dyx1994@126.com\n",
      "dyx1994@126.com符合要求...\n"
     ]
    }
   ],
   "source": [
    "import re\n",
    "\n",
    "\n",
    "def main():\n",
    "    email = input(\"请输入一个邮箱地址：\")\n",
    "    # 如果在正则表达式中需要用到某些普通字符，比如.比如？等，仅仅需要在前面加\\（转义字符）\n",
    "    ret = re.match(r\"^[a-zA-Z_0-9]{4,20}@(163|126)\\.com$\", email)    \n",
    "    if ret:\n",
    "        print(\"%s符合要求...\" % email)\n",
    "    else:\n",
    "        print(\"%s不符合要求...\" % email)\n",
    "        \n",
    "\n",
    "if __name__ == \"__main__\":\n",
    "    main()"
   ]
  },
  {
   "cell_type": "markdown",
   "metadata": {},
   "source": [
    "### 匹配分组\n",
    "\n",
    "> | ： 匹配左右任意一个表达式\n",
    ">\n",
    "> (ab) : 将括号中字符作为一个分组\n",
    ">\n",
    "> \\num : 引用分组num匹配到的字符串\n",
    ">\n",
    "> (?P<name\\>) : 分组起别名\n",
    "> \n",
    "> (?P=name) : 引用别名为name分组匹配到的字符串"
   ]
  },
  {
   "cell_type": "code",
   "execution_count": 38,
   "metadata": {},
   "outputs": [
    {
     "data": {
      "text/plain": [
       "'dyx1994'"
      ]
     },
     "execution_count": 38,
     "metadata": {},
     "output_type": "execute_result"
    }
   ],
   "source": [
    "re.match(r\"^([a-zA-Z_0-9]{4,20})@(163|126)\\.com$\", \"dyx1994@163.com\").group(1) "
   ]
  },
  {
   "cell_type": "code",
   "execution_count": 39,
   "metadata": {},
   "outputs": [
    {
     "data": {
      "text/plain": [
       "'163'"
      ]
     },
     "execution_count": 39,
     "metadata": {},
     "output_type": "execute_result"
    }
   ],
   "source": [
    "re.match(r\"^([a-zA-Z_0-9]{4,20})@(163|126)\\.com$\", \"dyx1994@163.com\").group(2) "
   ]
  },
  {
   "cell_type": "markdown",
   "metadata": {},
   "source": [
    "### re 高级用法 （python）"
   ]
  },
  {
   "cell_type": "markdown",
   "metadata": {},
   "source": [
    "### search"
   ]
  },
  {
   "cell_type": "code",
   "execution_count": 43,
   "metadata": {},
   "outputs": [
    {
     "data": {
      "text/plain": [
       "'9999'"
      ]
     },
     "execution_count": 43,
     "metadata": {},
     "output_type": "execute_result"
    }
   ],
   "source": [
    "re.search(r\"\\d+\", \"阅读次数为9999\").group()"
   ]
  },
  {
   "cell_type": "markdown",
   "metadata": {},
   "source": [
    "### findall"
   ]
  },
  {
   "cell_type": "code",
   "execution_count": 44,
   "metadata": {},
   "outputs": [
    {
     "data": {
      "text/plain": [
       "['999', '123', '12345']"
      ]
     },
     "execution_count": 44,
     "metadata": {},
     "output_type": "execute_result"
    }
   ],
   "source": [
    "re.findall(r\"\\d+\",\"python = 999, c = 123, c++ = 12345\")"
   ]
  },
  {
   "cell_type": "markdown",
   "metadata": {},
   "source": [
    "### sub 将匹配到的数据进行替换"
   ]
  },
  {
   "cell_type": "code",
   "execution_count": 45,
   "metadata": {},
   "outputs": [
    {
     "data": {
      "text/plain": [
       "'python = 999'"
      ]
     },
     "execution_count": 45,
     "metadata": {},
     "output_type": "execute_result"
    }
   ],
   "source": [
    "re.sub(r\"\\d+\",\"999\", \"python = 998\")    # 将998替换成999"
   ]
  },
  {
   "cell_type": "code",
   "execution_count": 48,
   "metadata": {},
   "outputs": [
    {
     "data": {
      "text/plain": [
       "'python = 999, c = 999'"
      ]
     },
     "execution_count": 48,
     "metadata": {},
     "output_type": "execute_result"
    }
   ],
   "source": [
    "re.sub(r\"\\d+\",\"999\", \"python = 998, c = 997\")"
   ]
  },
  {
   "cell_type": "markdown",
   "metadata": {},
   "source": [
    "### split 根据匹配进行切割字符串，并返回一个列表"
   ]
  },
  {
   "cell_type": "code",
   "execution_count": 50,
   "metadata": {},
   "outputs": [
    {
     "name": "stdout",
     "output_type": "stream",
     "text": [
      "['info', 'xiaoMing', '33', 'shandong']\n"
     ]
    }
   ],
   "source": [
    "ret = re.split(r\":| \",\"info:xiaoMing 33 shandong\")\n",
    "print(ret)"
   ]
  },
  {
   "cell_type": "code",
   "execution_count": null,
   "metadata": {},
   "outputs": [],
   "source": []
  }
 ],
 "metadata": {
  "kernelspec": {
   "display_name": "Python 3",
   "language": "python",
   "name": "python3"
  },
  "language_info": {
   "codemirror_mode": {
    "name": "ipython",
    "version": 3
   },
   "file_extension": ".py",
   "mimetype": "text/x-python",
   "name": "python",
   "nbconvert_exporter": "python",
   "pygments_lexer": "ipython3",
   "version": "3.7.3"
  }
 },
 "nbformat": 4,
 "nbformat_minor": 2
}
